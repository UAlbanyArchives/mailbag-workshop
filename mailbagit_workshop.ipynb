{
  "nbformat": 4,
  "nbformat_minor": 0,
  "metadata": {
    "colab": {
      "provenance": []
    },
    "kernelspec": {
      "name": "python3",
      "display_name": "Python 3"
    },
    "language_info": {
      "name": "python"
    }
  },
  "cells": [
    {
      "cell_type": "markdown",
      "source": [
        "# Mailbagit Workshop\n",
        "\n",
        "Welcome to the mailbagit demo workshop! We'll learn what a mailbag is, and how to create one using mailbagit!\n",
        "\n",
        "Slides at [gregwiedeman.com/slides/mailbagitDLF2022.html](https://gregwiedeman.com/slides/mailbagitDLF2022.html)\n",
        "\n",
        "\n",
        "# Installing mailbagit with Python\n"
      ],
      "metadata": {
        "id": "4vHhAjx98QUW"
      }
    },
    {
      "cell_type": "code",
      "execution_count": 1,
      "metadata": {
        "colab": {
          "base_uri": "https://localhost:8080/"
        },
        "id": "IkJU8_TK6O7U",
        "outputId": "09178642-54a6-470b-8b7b-e04652afe326"
      },
      "outputs": [
        {
          "output_type": "stream",
          "name": "stdout",
          "text": [
            "Requirement already satisfied: mailbagit[pst] in /usr/local/lib/python3.10/dist-packages (0.7.0)\n",
            "Requirement already satisfied: bagit<2,>=1.8.1 in /usr/local/lib/python3.10/dist-packages (from mailbagit[pst]) (1.8.1)\n",
            "Requirement already satisfied: beautifulsoup4<5,>=4.11.1 in /usr/local/lib/python3.10/dist-packages (from mailbagit[pst]) (4.11.2)\n",
            "Requirement already satisfied: black<23,>=22.1.0 in /usr/local/lib/python3.10/dist-packages (from mailbagit[pst]) (22.12.0)\n",
            "Requirement already satisfied: jsonmodels<=2.5.0,>=2.2 in /usr/local/lib/python3.10/dist-packages (from mailbagit[pst]) (2.5.0)\n",
            "Requirement already satisfied: extract-msg>=0.42.0 in /usr/local/lib/python3.10/dist-packages (from mailbagit[pst]) (0.47.0)\n",
            "Requirement already satisfied: structlog<22,>=21.1.0 in /usr/local/lib/python3.10/dist-packages (from mailbagit[pst]) (21.5.0)\n",
            "Requirement already satisfied: packaging<21.3,>=21.0 in /usr/local/lib/python3.10/dist-packages (from mailbagit[pst]) (21.2)\n",
            "Requirement already satisfied: python-json-logger<3,>=2.0.2 in /usr/local/lib/python3.10/dist-packages (from mailbagit[pst]) (2.0.7)\n",
            "Requirement already satisfied: pyparsing<3,>=2.1.0 in /usr/local/lib/python3.10/dist-packages (from mailbagit[pst]) (2.4.7)\n",
            "Requirement already satisfied: pytest<8,>=7.0.1 in /usr/local/lib/python3.10/dist-packages (from mailbagit[pst]) (7.4.4)\n",
            "Requirement already satisfied: python-dotenv<=0.19.1,>0.19.0 in /usr/local/lib/python3.10/dist-packages (from mailbagit[pst]) (0.19.1)\n",
            "Requirement already satisfied: chardet<5,>=4.0.0 in /usr/local/lib/python3.10/dist-packages (from mailbagit[pst]) (4.0.0)\n",
            "Requirement already satisfied: warcio<2,>=1.7.4 in /usr/local/lib/python3.10/dist-packages (from mailbagit[pst]) (1.7.4)\n",
            "Requirement already satisfied: requests<3,>=2.27.1 in /usr/local/lib/python3.10/dist-packages (from mailbagit[pst]) (2.31.0)\n",
            "Requirement already satisfied: cssutils<3,>=2.4.2 in /usr/local/lib/python3.10/dist-packages (from mailbagit[pst]) (2.9.0)\n",
            "Requirement already satisfied: typed-ast<2,>=1.5.3 in /usr/local/lib/python3.10/dist-packages (from mailbagit[pst]) (1.5.5)\n",
            "Requirement already satisfied: libpff-python==20211114 in /usr/local/lib/python3.10/dist-packages (from mailbagit[pst]) (20211114)\n",
            "Requirement already satisfied: soupsieve>1.2 in /usr/local/lib/python3.10/dist-packages (from beautifulsoup4<5,>=4.11.1->mailbagit[pst]) (2.5)\n",
            "Requirement already satisfied: click>=8.0.0 in /usr/local/lib/python3.10/dist-packages (from black<23,>=22.1.0->mailbagit[pst]) (8.1.7)\n",
            "Requirement already satisfied: mypy-extensions>=0.4.3 in /usr/local/lib/python3.10/dist-packages (from black<23,>=22.1.0->mailbagit[pst]) (1.0.0)\n",
            "Requirement already satisfied: pathspec>=0.9.0 in /usr/local/lib/python3.10/dist-packages (from black<23,>=22.1.0->mailbagit[pst]) (0.12.1)\n",
            "Requirement already satisfied: platformdirs>=2 in /usr/local/lib/python3.10/dist-packages (from black<23,>=22.1.0->mailbagit[pst]) (4.1.0)\n",
            "Requirement already satisfied: tomli>=1.1.0 in /usr/local/lib/python3.10/dist-packages (from black<23,>=22.1.0->mailbagit[pst]) (2.0.1)\n",
            "Requirement already satisfied: olefile==0.47 in /usr/local/lib/python3.10/dist-packages (from extract-msg>=0.42.0->mailbagit[pst]) (0.47)\n",
            "Requirement already satisfied: tzlocal<6,>=4.2 in /usr/local/lib/python3.10/dist-packages (from extract-msg>=0.42.0->mailbagit[pst]) (5.2)\n",
            "Requirement already satisfied: compressed-rtf<2,>=1.0.6 in /usr/local/lib/python3.10/dist-packages (from extract-msg>=0.42.0->mailbagit[pst]) (1.0.6)\n",
            "Requirement already satisfied: ebcdic<2,>=1.1.1 in /usr/local/lib/python3.10/dist-packages (from extract-msg>=0.42.0->mailbagit[pst]) (1.1.1)\n",
            "Requirement already satisfied: RTFDE<0.2,>=0.1.1 in /usr/local/lib/python3.10/dist-packages (from extract-msg>=0.42.0->mailbagit[pst]) (0.1.1)\n",
            "Requirement already satisfied: red-black-tree-mod==1.20 in /usr/local/lib/python3.10/dist-packages (from extract-msg>=0.42.0->mailbagit[pst]) (1.20)\n",
            "Requirement already satisfied: python-dateutil in /usr/local/lib/python3.10/dist-packages (from jsonmodels<=2.5.0,>=2.2->mailbagit[pst]) (2.8.2)\n",
            "Requirement already satisfied: iniconfig in /usr/local/lib/python3.10/dist-packages (from pytest<8,>=7.0.1->mailbagit[pst]) (2.0.0)\n",
            "Requirement already satisfied: pluggy<2.0,>=0.12 in /usr/local/lib/python3.10/dist-packages (from pytest<8,>=7.0.1->mailbagit[pst]) (1.3.0)\n",
            "Requirement already satisfied: exceptiongroup>=1.0.0rc8 in /usr/local/lib/python3.10/dist-packages (from pytest<8,>=7.0.1->mailbagit[pst]) (1.2.0)\n",
            "Requirement already satisfied: charset-normalizer<4,>=2 in /usr/local/lib/python3.10/dist-packages (from requests<3,>=2.27.1->mailbagit[pst]) (3.3.2)\n",
            "Requirement already satisfied: idna<4,>=2.5 in /usr/local/lib/python3.10/dist-packages (from requests<3,>=2.27.1->mailbagit[pst]) (3.6)\n",
            "Requirement already satisfied: urllib3<3,>=1.21.1 in /usr/local/lib/python3.10/dist-packages (from requests<3,>=2.27.1->mailbagit[pst]) (2.0.7)\n",
            "Requirement already satisfied: certifi>=2017.4.17 in /usr/local/lib/python3.10/dist-packages (from requests<3,>=2.27.1->mailbagit[pst]) (2023.11.17)\n",
            "Requirement already satisfied: six in /usr/local/lib/python3.10/dist-packages (from warcio<2,>=1.7.4->mailbagit[pst]) (1.16.0)\n",
            "Requirement already satisfied: lark==1.1.8 in /usr/local/lib/python3.10/dist-packages (from RTFDE<0.2,>=0.1.1->extract-msg>=0.42.0->mailbagit[pst]) (1.1.8)\n",
            "Requirement already satisfied: oletools>=0.56 in /usr/local/lib/python3.10/dist-packages (from RTFDE<0.2,>=0.1.1->extract-msg>=0.42.0->mailbagit[pst]) (0.60.1)\n",
            "Requirement already satisfied: easygui in /usr/local/lib/python3.10/dist-packages (from oletools>=0.56->RTFDE<0.2,>=0.1.1->extract-msg>=0.42.0->mailbagit[pst]) (0.98.3)\n",
            "Requirement already satisfied: colorclass in /usr/local/lib/python3.10/dist-packages (from oletools>=0.56->RTFDE<0.2,>=0.1.1->extract-msg>=0.42.0->mailbagit[pst]) (2.2.2)\n",
            "Requirement already satisfied: pcodedmp>=1.2.5 in /usr/local/lib/python3.10/dist-packages (from oletools>=0.56->RTFDE<0.2,>=0.1.1->extract-msg>=0.42.0->mailbagit[pst]) (1.2.6)\n",
            "Requirement already satisfied: msoffcrypto-tool in /usr/local/lib/python3.10/dist-packages (from oletools>=0.56->RTFDE<0.2,>=0.1.1->extract-msg>=0.42.0->mailbagit[pst]) (5.3.1)\n",
            "Requirement already satisfied: cryptography>=35.0 in /usr/local/lib/python3.10/dist-packages (from msoffcrypto-tool->oletools>=0.56->RTFDE<0.2,>=0.1.1->extract-msg>=0.42.0->mailbagit[pst]) (41.0.7)\n",
            "Requirement already satisfied: cffi>=1.12 in /usr/local/lib/python3.10/dist-packages (from cryptography>=35.0->msoffcrypto-tool->oletools>=0.56->RTFDE<0.2,>=0.1.1->extract-msg>=0.42.0->mailbagit[pst]) (1.16.0)\n",
            "Requirement already satisfied: pycparser in /usr/local/lib/python3.10/dist-packages (from cffi>=1.12->cryptography>=35.0->msoffcrypto-tool->oletools>=0.56->RTFDE<0.2,>=0.1.1->extract-msg>=0.42.0->mailbagit[pst]) (2.21)\n"
          ]
        }
      ],
      "source": [
        "! pip install mailbagit[pst]"
      ]
    },
    {
      "cell_type": "markdown",
      "source": [
        "## Did it work?"
      ],
      "metadata": {
        "id": "nBOD_swQ8PHP"
      }
    },
    {
      "cell_type": "code",
      "source": [
        "! mailbagit -v"
      ],
      "metadata": {
        "colab": {
          "base_uri": "https://localhost:8080/"
        },
        "id": "RHklT-3T6nIv",
        "outputId": "5696e68a-acfa-4715-8ab9-40181826eb1b"
      },
      "execution_count": 2,
      "outputs": [
        {
          "output_type": "stream",
          "name": "stdout",
          "text": [
            "mailbagit 0.7.0\n"
          ]
        }
      ]
    },
    {
      "cell_type": "markdown",
      "source": [
        "## Setup a folder in your Google Drive"
      ],
      "metadata": {
        "id": "L5lBVvK9C-OO"
      }
    },
    {
      "cell_type": "code",
      "source": [
        "# mount your Google Drive\n",
        "from google.colab import drive\n",
        "drive.mount('/content/gdrive', force_remount=True)\n",
        "gdrive_path = '/content/gdrive/My Drive/'\n",
        "\n",
        "# Make a folder called \"mailbag_demo\"\n",
        "import os\n",
        "mailbag_demo = os.path.join(gdrive_path, \"mailbag_demo\")\n",
        "if not os.path.isdir(mailbag_demo):\n",
        "  os.mkdir(mailbag_demo)\n",
        "\n",
        "# Change to mailbag_demo directory\n",
        "%cd '/content/gdrive/My Drive/mailbag_demo'\n",
        "! pwd"
      ],
      "metadata": {
        "colab": {
          "base_uri": "https://localhost:8080/"
        },
        "id": "EbFgAswko897",
        "outputId": "4afa954a-a492-4820-d2cd-546a39376d66"
      },
      "execution_count": 3,
      "outputs": [
        {
          "output_type": "stream",
          "name": "stdout",
          "text": [
            "Mounted at /content/gdrive\n",
            "/content/gdrive/My Drive/mailbag_demo\n",
            "/content/gdrive/My Drive/mailbag_demo\n"
          ]
        }
      ]
    },
    {
      "cell_type": "markdown",
      "source": [
        "## Get some sample data\n"
      ],
      "metadata": {
        "id": "9h4ilWCTjlKD"
      }
    },
    {
      "cell_type": "code",
      "source": [
        "# Download sample data to folder\n",
        "import urllib.request\n",
        "data_url = \"https://archives.albany.edu/static/mailbagWorkshopData.zip\"\n",
        "data_zip = os.path.join(mailbag_demo, \"mailbagWorkshopData.zip\")\n",
        "urllib.request.urlretrieve(data_url, data_zip)\n",
        "\n",
        "# unzip\n",
        "import zipfile\n",
        "with zipfile.ZipFile('/content/gdrive/My Drive/mailbag_demo/mailbagWorkshopData.zip', 'r') as zip_ref:\n",
        "    zip_ref.extractall('/content/gdrive/My Drive/mailbag_demo')\n",
        "\n",
        "# list contents\n",
        "! ls"
      ],
      "metadata": {
        "id": "QwwHdAgfpG94",
        "colab": {
          "base_uri": "https://localhost:8080/"
        },
        "outputId": "8d87dffd-a4d1-400a-e53e-25ad56ece896"
      },
      "execution_count": 4,
      "outputs": [
        {
          "output_type": "stream",
          "name": "stdout",
          "text": [
            "account.mbox  enron.pst  Inbox\tmailbagWorkshopData.zip  msgs\n"
          ]
        }
      ]
    },
    {
      "cell_type": "markdown",
      "source": [
        "You should have a folder in you Google Drive called mailbag_demo. It in should be:\n",
        "* Inbox (a folder of .EMLs)\n",
        "* msgs (a folder of .MSGs)\n",
        "* account.mbox\n",
        "* enron.pst"
      ],
      "metadata": {
        "id": "rPRKFNBQm3fl"
      }
    },
    {
      "cell_type": "markdown",
      "source": [
        "## What mailbagit does\n",
        "\n",
        "* Takes email export files\n",
        "  * PST, MBOX, MSG, EML\n",
        "  * Single files or directory of files\n",
        "  * \"companion\" files option\n",
        "* Packages them into a mailbag\n",
        "* Creates derivative files\n",
        "  * TXT, HTML, EML, MBOX\n",
        "  * PDF, PDF-chrome, WARC\n",
        "\n",
        "## Speed\n",
        "\n",
        "* Things that are fast\n",
        "  * MBOX, EML sources\n",
        "  * TXT, HTML, EML, MBOX derivatives\n",
        "* Things that are slow\n",
        "  * PST, MSG sources\n",
        "  * PDF, WARC derivatives\n",
        "\n",
        "## CLI Options\n",
        "\n",
        "* -r --dry-run\n",
        "* --css path/to/styles.css\n",
        "* -c --compress zip\n",
        "* -f --companion_files\n",
        "\n",
        "## CLI Options\n",
        "\n",
        "* --capture-date\n",
        "* --capture-agent\n",
        "* --capture-agent-version\n",
        "* Most bagit-python options\n",
        "  * --processes\n",
        "  * Checksums, --md5, --sha512\n",
        "  * --source-organization\n",
        "  * not -quiet, -validate, -fast\n",
        "\n",
        "## Privacy & Security concerns\n",
        "\n",
        "* Email trackers\n",
        "* PDF and WARC derivatives ping all URLs\n",
        "* File inclusions"
      ],
      "metadata": {
        "id": "UU1I-LMxnAEh"
      }
    },
    {
      "cell_type": "markdown",
      "source": [
        "## Try a \"dry run\"\n",
        "This would package `account.mbox` into a mailbag called \"test1\" with HTML and EML derivatives"
      ],
      "metadata": {
        "id": "hqZcv4ImCviv"
      }
    },
    {
      "cell_type": "code",
      "source": [
        "! mailbagit 'account.mbox' -i mbox -d html eml -m test1 -r"
      ],
      "metadata": {
        "colab": {
          "base_uri": "https://localhost:8080/"
        },
        "id": "fLH1hMVzCx9_",
        "outputId": "88eb7525-c1d2-4349-b398-2d557e869584"
      },
      "execution_count": 5,
      "outputs": [
        {
          "output_type": "stream",
          "name": "stdout",
          "text": [
            "INFO: Reading: account.mbox\n",
            "INFO: Found 331 messages.\n",
            "100.0% [Processed 331 of 331 messages] 0.0s remaining\n",
            "INFO: Writing CSV reports...\n",
            "INFO: Finished packaging mailbag.\n"
          ]
        }
      ]
    },
    {
      "cell_type": "markdown",
      "source": [
        "## Try it for real!\n",
        "This will actually create the mailbag"
      ],
      "metadata": {
        "id": "Zd0DzPR8ketR"
      }
    },
    {
      "cell_type": "code",
      "source": [
        "! mailbagit 'account.mbox' -i mbox -d html eml -m test1 -k"
      ],
      "metadata": {
        "colab": {
          "base_uri": "https://localhost:8080/"
        },
        "id": "N4psZaeCkhTB",
        "outputId": "05e614af-c8c4-4138-8d98-c00e08ea17c3"
      },
      "execution_count": 9,
      "outputs": [
        {
          "output_type": "stream",
          "name": "stdout",
          "text": [
            "usage: mailbagit [-h] [--processes PROCESSES] [--log LOG] [--shake_128] [--sha3_256] [--sha384]\n",
            "                 [--blake2b] [--blake2s] [--sha3_384] [--sha256] [--md5] [--sha3_224] [--sha3_512]\n",
            "                 [--shake_256] [--sha1] [--sha512] [--sha224]\n",
            "                 [--source-organization SOURCE-ORGANIZATION]\n",
            "                 [--organization-address ORGANIZATION-ADDRESS] [--contact-name CONTACT-NAME]\n",
            "                 [--contact-phone CONTACT-PHONE] [--contact-email CONTACT-EMAIL]\n",
            "                 [--external-description EXTERNAL-DESCRIPTION]\n",
            "                 [--external-identifier EXTERNAL-IDENTIFIER]\n",
            "                 [--bag-group-identifier BAG-GROUP-IDENTIFIER] [--bag-count BAG-COUNT]\n",
            "                 [--internal-sender-identifier INTERNAL-SENDER-IDENTIFIER]\n",
            "                 [--internal-sender-description INTERNAL-SENDER-DESCRIPTION]\n",
            "                 [--bagit-profile-identifier BAGIT-PROFILE-IDENTIFIER] -m MAILBAG -i\n",
            "                 {eml,mbox,msg,pst} [-d {eml,html,mbox,txt,warc} [{eml,html,mbox,txt,warc} ...]]\n",
            "                 [-v] [--css CSS] [-c {tar,zip,tar.gz}] [-r] [-k] [-l] [-f]\n",
            "                 [--capture-date CAPTURE_DATE] [--capture-agent CAPTURE_AGENT]\n",
            "                 [--capture-agent-version CAPTURE_AGENT_VERSION]\n",
            "                 path\n",
            "mailbagit: error: Invalid mailbag. Directory must not already exist.\n"
          ]
        }
      ]
    },
    {
      "cell_type": "markdown",
      "source": [
        "## What's in a mailbag?\n",
        "\n",
        "* bagit.txt, manifiests\n",
        "* bag-info.txt\n",
        "* mailbag.csv\n",
        "* data (payload)\n",
        "\n",
        "\n",
        "## bag-info.txt\n",
        "\n",
        "```\n",
        "Bag-Size: 34 MB\n",
        "Bag-Software-Agent: bagit.py v1.8.1 <https://github.com/LibraryOfCongress/bagit-python>\n",
        "Bag-Type: Mailbag\n",
        "Bagging-Date: 2022-05-26\n",
        "Bagging-Timestamp: 2022-05-26T16:15:48\n",
        "EML-Agent: email\n",
        "EML-Agent-Version: 3.9.12\n",
        "External-Identifier: adeb0ab6-59b8-494c-be6a-de066f5c8f23\n",
        "MSG-Agent: extract_msg\n",
        "MSG-Agent-Version: 0.30.12\n",
        "Mailbag-Agent: mailbagit\n",
        "Mailbag-Agent-Version: 0.2.1\n",
        "Mailbag-Source: msg\n",
        "Original-Included: True\n",
        "PDF-Agent: wkhtmltopdf\n",
        "PDF-Agent-Version: wkhtmltopdf 0.12.6 (with patched qt)\n",
        "Payload-Oxum: 36529495.87\n",
        "WARC-Agent: warcio\n",
        "WARC-Agent-Version: 1.7.4\n",
        "\n",
        "```\n",
        "\n",
        "\n",
        "## mailbag.csv headers\n",
        "\n",
        "```\n",
        "Error\n",
        "Mailbag-Message-ID\n",
        "Message-ID\n",
        "Original-File\n",
        "Message-Path\n",
        "Derivatives-Path\n",
        "Attachments (int)\n",
        "Date\n",
        "From\n",
        "To\n",
        "Cc\n",
        "Bcc\n",
        "Subject\n",
        "Content-Type\n",
        "```\n",
        "\n",
        "\n",
        "## data (payload)\n",
        "\n",
        "* attachments\n",
        "  * [Mailbag-Message-ID]\n",
        "    * attachments.csv\n",
        "    * test.pdf\n",
        "* pst\n",
        "  * export.pst\n",
        "* eml\n",
        "  *\n",
        "* pdf\n",
        "    "
      ],
      "metadata": {
        "id": "aNsg5SlCp54f"
      }
    },
    {
      "cell_type": "markdown",
      "source": [
        "## Lets try a some MSG files\n",
        "Do a \"dry run\" first again"
      ],
      "metadata": {
        "id": "j4u2UU_Bknnp"
      }
    },
    {
      "cell_type": "code",
      "source": [
        "! mailbagit 'msgs' -i msg -d eml html txt -m test2 -r"
      ],
      "metadata": {
        "colab": {
          "base_uri": "https://localhost:8080/"
        },
        "id": "91pZZVs7mN_k",
        "outputId": "327d424e-e9ee-4023-8aab-ea1c0efd699c"
      },
      "execution_count": null,
      "outputs": [
        {
          "output_type": "stream",
          "name": "stdout",
          "text": [
            "INFO: Reading: msgs\n",
            "INFO: Found 21 messages.\n",
            "WARNING: No body present for 13. Created EML without message body.\n",
            "WARNING: No HTML or plain text body for 13, no HTML derivative created.\n",
            "WARNING: No plain text body for 13, no TXT derivative created.\n",
            "100.0% [Processed 21 of 21 messages] 0.0s remaining\n",
            "INFO: Writing CSV reports...\n",
            "INFO: Finished packaging mailbag.\n"
          ]
        }
      ]
    },
    {
      "cell_type": "markdown",
      "source": [
        "### We got some errors!\n",
        "Dry run still creates an error report\n",
        "Take a look a the warnings report in msgs/test2_warnings\n",
        "\n",
        "## Mailbagit error reports\n",
        "\n",
        "* external to mailbag\n",
        "* created on -r --dry-run\n",
        "  * more errors will show without dry-run\n",
        "  * errors from subprocesses\n",
        "    * wkhtmltopdf\n",
        "    * chrome\n",
        "* errors.csv\n",
        "* .txt file for each message with error and full stack trace\n",
        "\n",
        "## Lets try MSGs for real\n",
        "This will package all the .MSG files in `msgs` into a mailbag called \"test2\" with EML, HTML, and plain text derivatives"
      ],
      "metadata": {
        "id": "WSNfvg-nmXGC"
      }
    },
    {
      "cell_type": "code",
      "source": [
        "! mailbagit 'msgs' -i msg -d eml html txt -m test2 -k"
      ],
      "metadata": {
        "colab": {
          "base_uri": "https://localhost:8080/"
        },
        "id": "BKfGJPblmV8M",
        "outputId": "033ee2f1-179b-4de3-f157-1098c93f4792"
      },
      "execution_count": null,
      "outputs": [
        {
          "output_type": "stream",
          "name": "stdout",
          "text": [
            "INFO: Reading: msgs\n",
            "INFO: Found 21 messages.\n",
            "WARNING: No body present for 13. Created EML without message body.\n",
            "WARNING: No HTML or plain text body for 13, no HTML derivative created.\n",
            "WARNING: No plain text body for 13, no TXT derivative created.\n",
            "100.0% [Processed 21 of 21 messages] 0.0s remaining\n",
            "INFO: Writing CSV reports...\n",
            "INFO: Saving manifests...\n",
            "INFO: Finished packaging mailbag.\n"
          ]
        }
      ]
    },
    {
      "cell_type": "markdown",
      "source": [
        "## PDFs won't work in Colab :(\n",
        "\n",
        "You'll have to skip this part as the PDF dependencies are not available in Google Colab."
      ],
      "metadata": {
        "id": "EVj3fIY1tsXd"
      }
    },
    {
      "cell_type": "markdown",
      "source": [
        "## Let's try a PST!"
      ],
      "metadata": {
        "id": "sZhGR7MKvZze"
      }
    },
    {
      "cell_type": "code",
      "source": [
        "! mailbagit 'enron.pst' -i pst -d eml html mbox -m test4 -k"
      ],
      "metadata": {
        "colab": {
          "base_uri": "https://localhost:8080/"
        },
        "id": "eZ1dkp_DvgwV",
        "outputId": "7c12a07b-66e7-49ec-d114-8e8a7cd262b3"
      },
      "execution_count": null,
      "outputs": [
        {
          "output_type": "stream",
          "name": "stdout",
          "text": [
            "INFO: Reading: enron.pst\n",
            "INFO: Found 71 messages.\n",
            "ERROR: Error writing MBOX derivative: OSError(38, 'Function not implemented')\n",
            "ERROR: Error writing MBOX derivative: OSError(38, 'Function not implemented')\n",
            "ERROR: Error writing MBOX derivative: FileExistsError(17, 'File exists')\n",
            "ERROR: Error writing MBOX derivative: FileExistsError(17, 'File exists')\n",
            "ERROR: Error writing MBOX derivative: FileExistsError(17, 'File exists')\n",
            "ERROR: Error writing MBOX derivative: FileExistsError(17, 'File exists')\n",
            "ERROR: Error writing MBOX derivative: FileExistsError(17, 'File exists')\n",
            "ERROR: Error writing MBOX derivative: FileExistsError(17, 'File exists')\n",
            "ERROR: Error writing MBOX derivative: FileExistsError(17, 'File exists')\n",
            "ERROR: Error writing MBOX derivative: OSError(38, 'Function not implemented')\n",
            "ERROR: Error writing MBOX derivative: FileExistsError(17, 'File exists')\n",
            "ERROR: Error writing MBOX derivative: FileExistsError(17, 'File exists')\n",
            "ERROR: Error writing MBOX derivative: FileExistsError(17, 'File exists')\n",
            "ERROR: Error writing MBOX derivative: FileExistsError(17, 'File exists')\n",
            "ERROR: Error writing MBOX derivative: FileExistsError(17, 'File exists')\n",
            "ERROR: Error writing MBOX derivative: OSError(38, 'Function not implemented')\n",
            "ERROR: Error writing MBOX derivative: FileExistsError(17, 'File exists')\n",
            "ERROR: Error writing MBOX derivative: FileExistsError(17, 'File exists')\n",
            "ERROR: Error writing MBOX derivative: FileExistsError(17, 'File exists')\n",
            "ERROR: Error writing MBOX derivative: FileExistsError(17, 'File exists')\n",
            "ERROR: Error writing MBOX derivative: FileExistsError(17, 'File exists')\n",
            "ERROR: Error writing MBOX derivative: FileExistsError(17, 'File exists')\n",
            "ERROR: Error writing MBOX derivative: OSError(38, 'Function not implemented')\n",
            "ERROR: Error writing MBOX derivative: FileExistsError(17, 'File exists')\n",
            "ERROR: Error writing MBOX derivative: OSError(38, 'Function not implemented')\n",
            "ERROR: Error writing MBOX derivative: FileExistsError(17, 'File exists')\n",
            "ERROR: Error writing MBOX derivative: FileExistsError(17, 'File exists')\n",
            "ERROR: Error writing MBOX derivative: FileExistsError(17, 'File exists')\n",
            "ERROR: Error writing MBOX derivative: FileExistsError(17, 'File exists')\n",
            "ERROR: Error writing MBOX derivative: FileExistsError(17, 'File exists')\n",
            "ERROR: Error writing MBOX derivative: FileExistsError(17, 'File exists')\n",
            "ERROR: Error writing MBOX derivative: FileExistsError(17, 'File exists')\n",
            "ERROR: Error writing MBOX derivative: OSError(38, 'Function not implemented')\n",
            "ERROR: Error writing MBOX derivative: FileExistsError(17, 'File exists')\n",
            "ERROR: Error writing MBOX derivative: FileExistsError(17, 'File exists')\n",
            "ERROR: Error writing MBOX derivative: FileExistsError(17, 'File exists')\n",
            "ERROR: Error writing MBOX derivative: FileExistsError(17, 'File exists')\n",
            "ERROR: Error writing MBOX derivative: FileExistsError(17, 'File exists')\n",
            "ERROR: Error writing MBOX derivative: FileExistsError(17, 'File exists')\n",
            "ERROR: Error writing MBOX derivative: FileExistsError(17, 'File exists')\n",
            "ERROR: Error writing MBOX derivative: FileExistsError(17, 'File exists')\n",
            "ERROR: Error writing MBOX derivative: FileExistsError(17, 'File exists')\n",
            "ERROR: Error writing MBOX derivative: FileExistsError(17, 'File exists')\n",
            "ERROR: Error writing MBOX derivative: FileExistsError(17, 'File exists')\n",
            "ERROR: Error writing MBOX derivative: FileExistsError(17, 'File exists')\n",
            "ERROR: Error writing MBOX derivative: FileExistsError(17, 'File exists')\n",
            "ERROR: Error writing MBOX derivative: FileExistsError(17, 'File exists')\n",
            "ERROR: Error writing MBOX derivative: FileExistsError(17, 'File exists')\n",
            "ERROR: Error writing MBOX derivative: FileExistsError(17, 'File exists')\n",
            "ERROR: Error writing MBOX derivative: FileExistsError(17, 'File exists')\n",
            "ERROR: Error writing MBOX derivative: FileExistsError(17, 'File exists')\n",
            "ERROR: Error writing MBOX derivative: OSError(38, 'Function not implemented')\n",
            "ERROR: Error writing MBOX derivative: FileExistsError(17, 'File exists')\n",
            "ERROR: Error writing MBOX derivative: FileExistsError(17, 'File exists')\n",
            "ERROR: Error writing MBOX derivative: OSError(38, 'Function not implemented')\n",
            "ERROR: Error writing MBOX derivative: FileExistsError(17, 'File exists')\n",
            "ERROR: Error writing MBOX derivative: FileExistsError(17, 'File exists')\n",
            "ERROR: Error writing MBOX derivative: FileExistsError(17, 'File exists')\n",
            "ERROR: Error writing MBOX derivative: FileExistsError(17, 'File exists')\n",
            "ERROR: Error writing MBOX derivative: FileExistsError(17, 'File exists')\n",
            "ERROR: Error writing MBOX derivative: FileExistsError(17, 'File exists')\n",
            "ERROR: Error writing MBOX derivative: FileExistsError(17, 'File exists')\n",
            "ERROR: Error writing MBOX derivative: FileExistsError(17, 'File exists')\n",
            "ERROR: Error writing MBOX derivative: FileExistsError(17, 'File exists')\n",
            "ERROR: Error writing MBOX derivative: FileExistsError(17, 'File exists')\n",
            "ERROR: Error writing MBOX derivative: FileExistsError(17, 'File exists')\n",
            "ERROR: Error writing MBOX derivative: FileExistsError(17, 'File exists')\n",
            "ERROR: Error writing MBOX derivative: FileExistsError(17, 'File exists')\n",
            "ERROR: Error writing MBOX derivative: FileExistsError(17, 'File exists')\n",
            "ERROR: Error writing MBOX derivative: FileExistsError(17, 'File exists')\n",
            "ERROR: Error writing MBOX derivative: FileExistsError(17, 'File exists')\n",
            "100.0% [Processed 71 of 71 messages] 0.0s remaining\n",
            "WARNING: Folder \"enron/SPAM Search Folder 2\" did not contain any messages or subfolders.\n",
            "WARNING: Folder \"enron/Top of Personal Folders/Deleted Items\" did not contain any messages or subfolders.\n",
            "WARNING: Folder \"enron/Search Root\" did not contain any messages or subfolders.\n",
            "INFO: Writing CSV reports...\n",
            "INFO: Saving manifests...\n",
            "INFO: Finished packaging mailbag.\n"
          ]
        }
      ]
    },
    {
      "cell_type": "markdown",
      "source": [
        "## Let's try to make  some WARCs!\n"
      ],
      "metadata": {
        "id": "p-oZPVn20f6T"
      }
    },
    {
      "cell_type": "code",
      "source": [
        "! mailbagit 'msgs' -i msg -d eml html warc -m test5 -k"
      ],
      "metadata": {
        "colab": {
          "base_uri": "https://localhost:8080/"
        },
        "id": "KuZ_9a9B2B3g",
        "outputId": "d68e29eb-a506-4cc2-8ddb-2b1a55a5e070"
      },
      "execution_count": 10,
      "outputs": [
        {
          "output_type": "stream",
          "name": "stdout",
          "text": [
            "INFO: Reading: msgs\n",
            "INFO: Found 21 messages.\n",
            "WARNING: No body present for 13. Created EML without message body.\n",
            "WARNING: No HTML or plain text body for 13, no HTML derivative created.\n",
            "WARNING: No HTML or plain text body for 13, no WARC derivative created.\n",
            "100.0% [Processed 21 of 21 messages] 0.0s remaining\n",
            "INFO: Writing CSV reports...\n",
            "INFO: Saving manifests...\n",
            "INFO: Finished packaging mailbag.\n"
          ]
        }
      ]
    },
    {
      "cell_type": "markdown",
      "source": [
        "## WARCs from mailbagit\n",
        "\n",
        "* uses [warcio](https://github.com/webrecorder/warcio) and `requests`\n",
        "* For WARC-Target-URI uses \"mailbag\", Mailbag-Message-ID\n",
        "  * \"http://mailbag/11/body.html\"\n",
        "* body.html response record\n",
        "* headers.json response record\n",
        "* duplicated in metadata record not used by replayweb.page\n",
        "* includes attachments\n",
        "\n",
        "## How mailbagit handles encoding\n",
        "\n",
        "* Bodies and headers\n",
        "* Tries listed encoding if present (and valid)\n",
        "* Tries chardetect\n",
        "  * raises warning if successful\n",
        "  * raises error if failed\n",
        "* replaces errors with listed encoding\n",
        "* Writes derivatives as \"UTF-8\"\n",
        "  * except EML/MBOX\n",
        "\n",
        "## Lossiness in derivatives\n",
        "\n",
        "* Most derivatives only contain part of the data\n",
        "* Most derivatives get written to/from [the mailbagit Model](https://github.com/UAlbanyArchives/mailbagit/blob/main/mailbagit/models.py)\n",
        "* EML and MBOX derivatives\n",
        "  * tries to write complete object\n",
        "  * only possible for EML/MBOX sources\n",
        "  * uses original encoding\n",
        "  * sometimes fails due to encoding issues\n",
        "    * raises warning and generates from Model\n",
        "    \n",
        "## EML / MBOX from Model\n",
        "\n",
        "* Contains all headers, HTML and TXT bodies, attachments\n",
        "* Writes folder structure to X-Folder header\n",
        "* multipart/mixed\n",
        "  * multipart/alternative (text/plain if present)\n",
        "  * multipart/alternative (text/html if present)\n",
        "  * application/pdf (application/octet-stream if missing)\n",
        "  \n",
        "## Future Questions\n",
        "\n",
        "* Packaging from IMAP\n",
        "* Packaging over APIs\n",
        "  * Gmail\n",
        "  * Office365/Exchange\n",
        "  * would require OAuth\n",
        "* Exclusions/filtering"
      ],
      "metadata": {
        "id": "lPWPKjGc00xo"
      }
    }
  ]
}