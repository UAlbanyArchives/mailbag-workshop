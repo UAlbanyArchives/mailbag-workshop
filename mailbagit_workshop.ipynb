{
  "nbformat": 4,
  "nbformat_minor": 0,
  "metadata": {
    "colab": {
      "provenance": [],
      "collapsed_sections": []
    },
    "kernelspec": {
      "name": "python3",
      "display_name": "Python 3"
    },
    "language_info": {
      "name": "python"
    }
  },
  "cells": [
    {
      "cell_type": "markdown",
      "source": [
        "# Mailbagit Workshop\n",
        "\n",
        "Welcome to the mailbagit demo workshop! We'll learn what a mailbag is, and how to create one using mailbagit!\n",
        "\n",
        "Slides at [gregwiedeman.com/slides/mailbagitDLF2022.html](https://gregwiedeman.com/slides/mailbagitDLF2022.html)\n",
        "\n",
        "\n",
        "# Installing mailbagit with Python\n"
      ],
      "metadata": {
        "id": "4vHhAjx98QUW"
      }
    },
    {
      "cell_type": "code",
      "execution_count": 2,
      "metadata": {
        "colab": {
          "base_uri": "https://localhost:8080/",
          "height": 1000
        },
        "id": "IkJU8_TK6O7U",
        "outputId": "42a1c0b1-b0dc-4f00-b504-8fac3c18d223"
      },
      "outputs": [
        {
          "output_type": "stream",
          "name": "stdout",
          "text": [
            "Looking in indexes: https://pypi.org/simple, https://us-python.pkg.dev/colab-wheels/public/simple/\n",
            "Collecting mailbagit[pst]\n",
            "  Downloading mailbagit-0.4.1-py3-none-any.whl (56 kB)\n",
            "\u001b[K     |████████████████████████████████| 56 kB 2.3 MB/s \n",
            "\u001b[?25hCollecting extract-msg<1,>=0.34.3\n",
            "  Downloading extract_msg-0.36.4-py2.py3-none-any.whl (160 kB)\n",
            "\u001b[K     |████████████████████████████████| 160 kB 10.7 MB/s \n",
            "\u001b[?25hCollecting requests<3,>=2.27.1\n",
            "  Downloading requests-2.28.1-py3-none-any.whl (62 kB)\n",
            "\u001b[K     |████████████████████████████████| 62 kB 1.5 MB/s \n",
            "\u001b[?25hCollecting python-json-logger<3,<3pyparsing>=2.1.0,>=2.0.2\n",
            "  Downloading python_json_logger-2.0.4-py3-none-any.whl (7.8 kB)\n",
            "Collecting packaging<21.3,>=21.0\n",
            "  Downloading packaging-21.2-py3-none-any.whl (40 kB)\n",
            "\u001b[K     |████████████████████████████████| 40 kB 5.3 MB/s \n",
            "\u001b[?25hCollecting cssutils<3,>=2.4.2\n",
            "  Downloading cssutils-2.6.0-py3-none-any.whl (399 kB)\n",
            "\u001b[K     |████████████████████████████████| 399 kB 46.1 MB/s \n",
            "\u001b[?25hCollecting pytest<8,>=7.0.1\n",
            "  Downloading pytest-7.1.3-py3-none-any.whl (298 kB)\n",
            "\u001b[K     |████████████████████████████████| 298 kB 52.8 MB/s \n",
            "\u001b[?25hCollecting python-dotenv<=0.19.1,>0.19.0\n",
            "  Downloading python_dotenv-0.19.1-py2.py3-none-any.whl (17 kB)\n",
            "Collecting typed-ast<2,>=1.5.3\n",
            "  Downloading typed_ast-1.5.4-cp37-cp37m-manylinux_2_5_x86_64.manylinux1_x86_64.manylinux_2_12_x86_64.manylinux2010_x86_64.whl (843 kB)\n",
            "\u001b[K     |████████████████████████████████| 843 kB 47.8 MB/s \n",
            "\u001b[?25hCollecting chardet<5,>=4.0.0\n",
            "  Downloading chardet-4.0.0-py2.py3-none-any.whl (178 kB)\n",
            "\u001b[K     |████████████████████████████████| 178 kB 67.4 MB/s \n",
            "\u001b[?25hCollecting jsonmodels<=2.5.0,>=2.2\n",
            "  Downloading jsonmodels-2.5.0.tar.gz (21 kB)\n",
            "Collecting warcio<2,>=1.7.4\n",
            "  Downloading warcio-1.7.4-py2.py3-none-any.whl (40 kB)\n",
            "\u001b[K     |████████████████████████████████| 40 kB 4.7 MB/s \n",
            "\u001b[?25hCollecting structlog<22,>=21.1.0\n",
            "  Downloading structlog-21.5.0-py3-none-any.whl (53 kB)\n",
            "\u001b[K     |████████████████████████████████| 53 kB 1.8 MB/s \n",
            "\u001b[?25hCollecting black<23,>=22.1.0\n",
            "  Downloading black-22.10.0-cp37-cp37m-manylinux_2_17_x86_64.manylinux2014_x86_64.whl (1.5 MB)\n",
            "\u001b[K     |████████████████████████████████| 1.5 MB 48.5 MB/s \n",
            "\u001b[?25hCollecting bagit<2,>=1.8.1\n",
            "  Downloading bagit-1.8.1-py2.py3-none-any.whl (35 kB)\n",
            "Collecting beautifulsoup4<5,>=4.11.1\n",
            "  Downloading beautifulsoup4-4.11.1-py3-none-any.whl (128 kB)\n",
            "\u001b[K     |████████████████████████████████| 128 kB 62.9 MB/s \n",
            "\u001b[?25hCollecting libpff-python==20211114\n",
            "  Downloading libpff-python-20211114.tar.gz (2.1 MB)\n",
            "\u001b[K     |████████████████████████████████| 2.1 MB 37.9 MB/s \n",
            "\u001b[?25hCollecting soupsieve>1.2\n",
            "  Downloading soupsieve-2.3.2.post1-py3-none-any.whl (37 kB)\n",
            "Collecting platformdirs>=2\n",
            "  Downloading platformdirs-2.5.2-py3-none-any.whl (14 kB)\n",
            "Requirement already satisfied: typing-extensions>=3.10.0.0 in /usr/local/lib/python3.7/dist-packages (from black<23,>=22.1.0->mailbagit[pst]) (4.1.1)\n",
            "Collecting mypy-extensions>=0.4.3\n",
            "  Downloading mypy_extensions-0.4.3-py2.py3-none-any.whl (4.5 kB)\n",
            "Collecting click>=8.0.0\n",
            "  Downloading click-8.1.3-py3-none-any.whl (96 kB)\n",
            "\u001b[K     |████████████████████████████████| 96 kB 2.5 MB/s \n",
            "\u001b[?25hRequirement already satisfied: tomli>=1.1.0 in /usr/local/lib/python3.7/dist-packages (from black<23,>=22.1.0->mailbagit[pst]) (2.0.1)\n",
            "Collecting pathspec>=0.9.0\n",
            "  Downloading pathspec-0.10.1-py3-none-any.whl (27 kB)\n",
            "Requirement already satisfied: importlib-metadata in /usr/local/lib/python3.7/dist-packages (from click>=8.0.0->black<23,>=22.1.0->mailbagit[pst]) (5.0.0)\n",
            "Collecting tzlocal>=4.2\n",
            "  Downloading tzlocal-4.2-py3-none-any.whl (19 kB)\n",
            "Collecting olefile>=0.46\n",
            "  Downloading olefile-0.46.zip (112 kB)\n",
            "\u001b[K     |████████████████████████████████| 112 kB 67.1 MB/s \n",
            "\u001b[?25hCollecting RTFDE>=0.0.2\n",
            "  Downloading RTFDE-0.0.2-py3-none-any.whl (34 kB)\n",
            "Collecting ebcdic>=1.1.1\n",
            "  Downloading ebcdic-1.1.1-py2.py3-none-any.whl (128 kB)\n",
            "\u001b[K     |████████████████████████████████| 128 kB 68.1 MB/s \n",
            "\u001b[?25hCollecting compressed-rtf>=1.0.6\n",
            "  Downloading compressed_rtf-1.0.6.tar.gz (5.8 kB)\n",
            "Collecting imapclient>=2.1.0\n",
            "  Downloading IMAPClient-2.3.1-py2.py3-none-any.whl (181 kB)\n",
            "\u001b[K     |████████████████████████████████| 181 kB 63.9 MB/s \n",
            "\u001b[?25hRequirement already satisfied: six in /usr/local/lib/python3.7/dist-packages (from imapclient>=2.1.0->extract-msg<1,>=0.34.3->mailbagit[pst]) (1.15.0)\n",
            "Requirement already satisfied: python-dateutil in /usr/local/lib/python3.7/dist-packages (from jsonmodels<=2.5.0,>=2.2->mailbagit[pst]) (2.8.2)\n",
            "Collecting pyparsing<3,>=2.0.2\n",
            "  Downloading pyparsing-2.4.7-py2.py3-none-any.whl (67 kB)\n",
            "\u001b[K     |████████████████████████████████| 67 kB 5.4 MB/s \n",
            "\u001b[?25hCollecting iniconfig\n",
            "  Downloading iniconfig-1.1.1-py2.py3-none-any.whl (5.0 kB)\n",
            "Collecting pluggy<2.0,>=0.12\n",
            "  Downloading pluggy-1.0.0-py2.py3-none-any.whl (13 kB)\n",
            "Requirement already satisfied: attrs>=19.2.0 in /usr/local/lib/python3.7/dist-packages (from pytest<8,>=7.0.1->mailbagit[pst]) (22.1.0)\n",
            "Requirement already satisfied: py>=1.8.2 in /usr/local/lib/python3.7/dist-packages (from pytest<8,>=7.0.1->mailbagit[pst]) (1.11.0)\n",
            "Requirement already satisfied: zipp>=0.5 in /usr/local/lib/python3.7/dist-packages (from importlib-metadata->click>=8.0.0->black<23,>=22.1.0->mailbagit[pst]) (3.8.1)\n",
            "Requirement already satisfied: certifi>=2017.4.17 in /usr/local/lib/python3.7/dist-packages (from requests<3,>=2.27.1->mailbagit[pst]) (2022.9.24)\n",
            "Requirement already satisfied: idna<4,>=2.5 in /usr/local/lib/python3.7/dist-packages (from requests<3,>=2.27.1->mailbagit[pst]) (2.10)\n",
            "Requirement already satisfied: charset-normalizer<3,>=2 in /usr/local/lib/python3.7/dist-packages (from requests<3,>=2.27.1->mailbagit[pst]) (2.1.1)\n",
            "Requirement already satisfied: urllib3<1.27,>=1.21.1 in /usr/local/lib/python3.7/dist-packages (from requests<3,>=2.27.1->mailbagit[pst]) (1.24.3)\n",
            "Collecting lark-parser>=0.11\n",
            "  Downloading lark_parser-0.12.0-py2.py3-none-any.whl (103 kB)\n",
            "\u001b[K     |████████████████████████████████| 103 kB 68.2 MB/s \n",
            "\u001b[?25hCollecting oletools>=0.56\n",
            "  Downloading oletools-0.60.1-py2.py3-none-any.whl (977 kB)\n",
            "\u001b[K     |████████████████████████████████| 977 kB 45.6 MB/s \n",
            "\u001b[?25hCollecting pcodedmp>=1.2.5\n",
            "  Downloading pcodedmp-1.2.6-py2.py3-none-any.whl (30 kB)\n",
            "Collecting colorclass\n",
            "  Downloading colorclass-2.2.2-py2.py3-none-any.whl (18 kB)\n",
            "Collecting msoffcrypto-tool\n",
            "  Downloading msoffcrypto_tool-5.0.0-py3-none-any.whl (33 kB)\n",
            "Collecting easygui\n",
            "  Downloading easygui-0.98.3-py2.py3-none-any.whl (92 kB)\n",
            "\u001b[K     |████████████████████████████████| 92 kB 689 kB/s \n",
            "\u001b[?25hCollecting backports.zoneinfo\n",
            "  Downloading backports.zoneinfo-0.2.1-cp37-cp37m-manylinux1_x86_64.whl (70 kB)\n",
            "\u001b[K     |████████████████████████████████| 70 kB 8.1 MB/s \n",
            "\u001b[?25hCollecting pytz-deprecation-shim\n",
            "  Downloading pytz_deprecation_shim-0.1.0.post0-py2.py3-none-any.whl (15 kB)\n",
            "Collecting cryptography>=2.3\n",
            "  Downloading cryptography-38.0.1-cp36-abi3-manylinux_2_24_x86_64.whl (4.0 MB)\n",
            "\u001b[K     |████████████████████████████████| 4.0 MB 42.0 MB/s \n",
            "\u001b[?25hRequirement already satisfied: cffi>=1.12 in /usr/local/lib/python3.7/dist-packages (from cryptography>=2.3->msoffcrypto-tool->oletools>=0.56->RTFDE>=0.0.2->extract-msg<1,>=0.34.3->mailbagit[pst]) (1.15.1)\n",
            "Requirement already satisfied: pycparser in /usr/local/lib/python3.7/dist-packages (from cffi>=1.12->cryptography>=2.3->msoffcrypto-tool->oletools>=0.56->RTFDE>=0.0.2->extract-msg<1,>=0.34.3->mailbagit[pst]) (2.21)\n",
            "Collecting tzdata\n",
            "  Downloading tzdata-2022.4-py2.py3-none-any.whl (336 kB)\n",
            "\u001b[K     |████████████████████████████████| 336 kB 56.5 MB/s \n",
            "\u001b[?25hBuilding wheels for collected packages: libpff-python, compressed-rtf, jsonmodels, olefile\n",
            "  Building wheel for libpff-python (setup.py) ... \u001b[?25l\u001b[?25hdone\n",
            "  Created wheel for libpff-python: filename=libpff_python-20211114-cp37-cp37m-linux_x86_64.whl size=1782243 sha256=fd2028dedbb9f2e070e67303cc50c90666308df7ee8a9173398b9577ed2239be\n",
            "  Stored in directory: /root/.cache/pip/wheels/44/c0/df/409f68bf31712c6bc1ba87c4e71c5e18175018ab1ab9e7388f\n",
            "  Building wheel for compressed-rtf (setup.py) ... \u001b[?25l\u001b[?25hdone\n",
            "  Created wheel for compressed-rtf: filename=compressed_rtf-1.0.6-py3-none-any.whl size=6204 sha256=b2289e48e8fe1b5cf521f24c646c7d5c44655b0c0041b47c3311d855552faf33\n",
            "  Stored in directory: /root/.cache/pip/wheels/bb/33/88/88ceee84d1b74b391c086bc594d3fcf80800decfbd6e1ff565\n",
            "  Building wheel for jsonmodels (setup.py) ... \u001b[?25l\u001b[?25hdone\n",
            "  Created wheel for jsonmodels: filename=jsonmodels-2.5.0-py2.py3-none-any.whl size=18290 sha256=6c1dd699efeb255505d37bd4d984e27670ad8eeafe36a57bda6390afd2adbb79\n",
            "  Stored in directory: /root/.cache/pip/wheels/c5/82/7b/ba71b77d2bcf18d513422beb708bef2fd2c856a5649afa9592\n",
            "  Building wheel for olefile (setup.py) ... \u001b[?25l\u001b[?25hdone\n",
            "  Created wheel for olefile: filename=olefile-0.46-py2.py3-none-any.whl size=35432 sha256=ed66d79db339871b80af2180e0902024b00e071432178b77dee67d1f291c19f6\n",
            "  Stored in directory: /root/.cache/pip/wheels/84/53/e6/37d90ccb3ad1a3ca98d2b17107e9fda401a7c541ea1eb6a65a\n",
            "Successfully built libpff-python compressed-rtf jsonmodels olefile\n",
            "Installing collected packages: olefile, cryptography, tzdata, pyparsing, pcodedmp, msoffcrypto-tool, easygui, colorclass, backports.zoneinfo, soupsieve, pytz-deprecation-shim, oletools, lark-parser, tzlocal, typed-ast, RTFDE, pluggy, platformdirs, pathspec, packaging, mypy-extensions, iniconfig, imapclient, ebcdic, compressed-rtf, click, chardet, beautifulsoup4, warcio, structlog, requests, python-json-logger, python-dotenv, pytest, jsonmodels, extract-msg, cssutils, black, bagit, mailbagit, libpff-python\n",
            "  Attempting uninstall: pyparsing\n",
            "    Found existing installation: pyparsing 3.0.9\n",
            "    Uninstalling pyparsing-3.0.9:\n",
            "      Successfully uninstalled pyparsing-3.0.9\n",
            "  Attempting uninstall: tzlocal\n",
            "    Found existing installation: tzlocal 1.5.1\n",
            "    Uninstalling tzlocal-1.5.1:\n",
            "      Successfully uninstalled tzlocal-1.5.1\n",
            "  Attempting uninstall: pluggy\n",
            "    Found existing installation: pluggy 0.7.1\n",
            "    Uninstalling pluggy-0.7.1:\n",
            "      Successfully uninstalled pluggy-0.7.1\n",
            "  Attempting uninstall: packaging\n",
            "    Found existing installation: packaging 21.3\n",
            "    Uninstalling packaging-21.3:\n",
            "      Successfully uninstalled packaging-21.3\n",
            "  Attempting uninstall: click\n",
            "    Found existing installation: click 7.1.2\n",
            "    Uninstalling click-7.1.2:\n",
            "      Successfully uninstalled click-7.1.2\n",
            "  Attempting uninstall: chardet\n",
            "    Found existing installation: chardet 3.0.4\n",
            "    Uninstalling chardet-3.0.4:\n",
            "      Successfully uninstalled chardet-3.0.4\n",
            "  Attempting uninstall: beautifulsoup4\n",
            "    Found existing installation: beautifulsoup4 4.6.3\n",
            "    Uninstalling beautifulsoup4-4.6.3:\n",
            "      Successfully uninstalled beautifulsoup4-4.6.3\n",
            "  Attempting uninstall: requests\n",
            "    Found existing installation: requests 2.23.0\n",
            "    Uninstalling requests-2.23.0:\n",
            "      Successfully uninstalled requests-2.23.0\n",
            "  Attempting uninstall: pytest\n",
            "    Found existing installation: pytest 3.6.4\n",
            "    Uninstalling pytest-3.6.4:\n",
            "      Successfully uninstalled pytest-3.6.4\n",
            "\u001b[31mERROR: pip's dependency resolver does not currently take into account all the packages that are installed. This behaviour is the source of the following dependency conflicts.\n",
            "flask 1.1.4 requires click<8.0,>=5.1, but you have click 8.1.3 which is incompatible.\u001b[0m\n",
            "Successfully installed RTFDE-0.0.2 backports.zoneinfo-0.2.1 bagit-1.8.1 beautifulsoup4-4.11.1 black-22.10.0 chardet-4.0.0 click-8.1.3 colorclass-2.2.2 compressed-rtf-1.0.6 cryptography-38.0.1 cssutils-2.6.0 easygui-0.98.3 ebcdic-1.1.1 extract-msg-0.36.4 imapclient-2.3.1 iniconfig-1.1.1 jsonmodels-2.5.0 lark-parser-0.12.0 libpff-python-20211114 mailbagit-0.4.1 msoffcrypto-tool-5.0.0 mypy-extensions-0.4.3 olefile-0.46 oletools-0.60.1 packaging-21.2 pathspec-0.10.1 pcodedmp-1.2.6 platformdirs-2.5.2 pluggy-1.0.0 pyparsing-2.4.7 pytest-7.1.3 python-dotenv-0.19.1 python-json-logger-2.0.4 pytz-deprecation-shim-0.1.0.post0 requests-2.28.1 soupsieve-2.3.2.post1 structlog-21.5.0 typed-ast-1.5.4 tzdata-2022.4 tzlocal-4.2 warcio-1.7.4\n"
          ]
        },
        {
          "output_type": "display_data",
          "data": {
            "application/vnd.colab-display-data+json": {
              "pip_warning": {
                "packages": [
                  "pyparsing"
                ]
              }
            }
          },
          "metadata": {}
        }
      ],
      "source": [
        "! pip install mailbagit[pst]"
      ]
    },
    {
      "cell_type": "markdown",
      "source": [
        "## Did it work?"
      ],
      "metadata": {
        "id": "nBOD_swQ8PHP"
      }
    },
    {
      "cell_type": "code",
      "source": [
        "! mailbagit -v"
      ],
      "metadata": {
        "colab": {
          "base_uri": "https://localhost:8080/"
        },
        "id": "RHklT-3T6nIv",
        "outputId": "9186f647-bff7-4079-acfa-fd45909a83ed"
      },
      "execution_count": 1,
      "outputs": [
        {
          "output_type": "stream",
          "name": "stdout",
          "text": [
            "mailbagit 0.4.1\n"
          ]
        }
      ]
    },
    {
      "cell_type": "markdown",
      "source": [
        "## Get some sample data"
      ],
      "metadata": {
        "id": "L5lBVvK9C-OO"
      }
    },
    {
      "cell_type": "code",
      "source": [
        "# mount your Google Drive\n",
        "from google.colab import drive\n",
        "drive.mount('/content/gdrive', force_remount=True)\n",
        "gdrive_path = '/content/gdrive/My Drive/'\n",
        "\n",
        "# Make a folder called \"mailbag_demo\"\n",
        "import os\n",
        "mailbag_demo = os.path.join(gdrive_path, \"mailbag_demo\")\n",
        "if not os.path.isdir(mailbag_demo):\n",
        "  os.mkdir(mailbag_demo)\n",
        "\n",
        "# Download sample data to folder\n",
        "import urllib.request\n",
        "data_url = \"https://archives.albany.edu/static/mailbagWorkshopData.zip\"\n",
        "data_zip = os.path.join(mailbag_demo, \"mailbagWorkshopData.zip\")\n",
        "urllib.request.urlretrieve(data_url, data_zip)"
      ],
      "metadata": {
        "colab": {
          "base_uri": "https://localhost:8080/"
        },
        "id": "EbFgAswko897",
        "outputId": "052a8e0e-d5a7-4af6-f3fd-d75d4feee913"
      },
      "execution_count": 2,
      "outputs": [
        {
          "output_type": "stream",
          "name": "stdout",
          "text": [
            "Mounted at /content/gdrive\n"
          ]
        },
        {
          "output_type": "execute_result",
          "data": {
            "text/plain": [
              "('/content/gdrive/My Drive/mailbag_demo/mailbagWorkshopData.zip',\n",
              " <http.client.HTTPMessage at 0x7fda765e0750>)"
            ]
          },
          "metadata": {},
          "execution_count": 2
        }
      ]
    },
    {
      "cell_type": "code",
      "source": [
        "# unzip\n",
        "import zipfile\n",
        "with zipfile.ZipFile('/content/gdrive/My Drive/mailbag_demo/mailbagWorkshopData.zip', 'r') as zip_ref:\n",
        "    zip_ref.extractall('/content/gdrive/My Drive/mailbag_demo')"
      ],
      "metadata": {
        "id": "QwwHdAgfpG94"
      },
      "execution_count": null,
      "outputs": []
    },
    {
      "cell_type": "markdown",
      "source": [
        "## Sample Data\n",
        "\n",
        "You should have a folder in you Google Drive called mailbag_demo. It in should be:\n",
        "* Inbox (a folder of .EMLs)\n",
        "* msgs (a folder of .MSGs)\n",
        "* account.mbox\n",
        "* enron.pst"
      ],
      "metadata": {
        "id": "9h4ilWCTjlKD"
      }
    },
    {
      "cell_type": "markdown",
      "source": [
        "## Working directory setup"
      ],
      "metadata": {
        "id": "rPRKFNBQm3fl"
      }
    },
    {
      "cell_type": "code",
      "source": [
        "! pwd\n",
        "%cd '/content/gdrive/My Drive/mailbag_demo'\n",
        "! pwd\n",
        "! ls"
      ],
      "metadata": {
        "colab": {
          "base_uri": "https://localhost:8080/"
        },
        "id": "JNYsn2IOkBE6",
        "outputId": "5a2f33df-d349-45f6-bb91-02c298d9e0e0"
      },
      "execution_count": 4,
      "outputs": [
        {
          "output_type": "stream",
          "name": "stdout",
          "text": [
            "/content/gdrive/MyDrive/mailbag_demo\n",
            "/content/gdrive/My Drive/mailbag_demo\n",
            "/content/gdrive/My Drive/mailbag_demo\n",
            "account.mbox  enron.pst  Inbox\tmailbagWorkshopData.zip  msgs\n"
          ]
        }
      ]
    },
    {
      "cell_type": "markdown",
      "source": [
        "## What mailbagit does\n",
        "\n",
        "* Takes email export files\n",
        "  * PST, MBOX, MSG, EML\n",
        "  * Single files or directory of files\n",
        "  * \"companion\" files option\n",
        "* Packages them into a mailbag\n",
        "* Creates derivative files\n",
        "  * TXT, HTML, EML, MBOX\n",
        "  * PDF, PDF-chrome, WARC\n",
        "\n",
        "## Speed\n",
        "\n",
        "* Things that are fast\n",
        "  * MBOX, EML sources\n",
        "  * TXT, HTML, EML, MBOX derivatives\n",
        "* Things that are slow\n",
        "  * PST, MSG sources\n",
        "  * PDF, WARC derivatives\n",
        "\n",
        "## CLI Options\n",
        "\n",
        "* -r --dry-run\n",
        "* --css path/to/styles.css\n",
        "* -c --compress zip\n",
        "* -f --companion_files\n",
        "\n",
        "## CLI Options\n",
        "\n",
        "* --capture-date\n",
        "* --capture-agent\n",
        "* --capture-agent-version\n",
        "* Most bagit-python options\n",
        "  * --processes\n",
        "  * Checksums, --md5, --sha512\n",
        "  * --source-organization\n",
        "  * not -quiet, -validate, -fast\n",
        "\n",
        "## Privacy & Security concerns\n",
        "\n",
        "* Email trackers\n",
        "* PDF and WARC derivatives ping all URLs\n",
        "* File inclusions"
      ],
      "metadata": {
        "id": "UU1I-LMxnAEh"
      }
    },
    {
      "cell_type": "markdown",
      "source": [
        "## Try a \"dry run\"\n",
        "This would package `account.mbox` into a mailbag called \"test1\" with HTML and EML derivatives"
      ],
      "metadata": {
        "id": "hqZcv4ImCviv"
      }
    },
    {
      "cell_type": "code",
      "source": [
        "! mailbagit 'account.mbox' -i mbox -d html eml -m test1 -r"
      ],
      "metadata": {
        "colab": {
          "base_uri": "https://localhost:8080/"
        },
        "id": "fLH1hMVzCx9_",
        "outputId": "d67bb23a-4d90-466a-c407-d81f2135be27"
      },
      "execution_count": 5,
      "outputs": [
        {
          "output_type": "stream",
          "name": "stdout",
          "text": [
            "INFO: Reading: account.mbox\n",
            "INFO: Found 331 messages.\n",
            "100.0% [Processed 331 of 331 messages] 0.0s remaining\n",
            "INFO: Writing CSV reports...\n",
            "INFO: Finished packaging mailbag.\n"
          ]
        }
      ]
    },
    {
      "cell_type": "markdown",
      "source": [
        "## Try it for real!\n",
        "This will actually create the mailbag"
      ],
      "metadata": {
        "id": "Zd0DzPR8ketR"
      }
    },
    {
      "cell_type": "code",
      "source": [
        "! mailbagit 'account.mbox' -i mbox -d html eml -m test1"
      ],
      "metadata": {
        "colab": {
          "base_uri": "https://localhost:8080/"
        },
        "id": "N4psZaeCkhTB",
        "outputId": "dd8a9909-9eab-485f-ed2e-ae034b18c278"
      },
      "execution_count": 6,
      "outputs": [
        {
          "output_type": "stream",
          "name": "stdout",
          "text": [
            "INFO: Reading: account.mbox\n",
            "INFO: Found 331 messages.\n",
            "100.0% [Processed 331 of 331 messages] 0.0s remaining\n",
            "INFO: Writing CSV reports...\n",
            "INFO: Saving manifests...\n",
            "INFO: Finished packaging mailbag.\n"
          ]
        }
      ]
    },
    {
      "cell_type": "markdown",
      "source": [
        "### Make sure to run this to reset the sample data"
      ],
      "metadata": {
        "id": "21SzKQ-Mkkfp"
      }
    },
    {
      "cell_type": "code",
      "source": [
        "! cp 'test1/data/mbox/account.mbox' '.'\n",
        "! ls"
      ],
      "metadata": {
        "colab": {
          "base_uri": "https://localhost:8080/"
        },
        "id": "rwzYDEDIlV5J",
        "outputId": "7ecd0894-c2c3-47d1-ea6f-c6ab3698b214"
      },
      "execution_count": 7,
      "outputs": [
        {
          "output_type": "stream",
          "name": "stdout",
          "text": [
            "account.mbox  enron.pst  Inbox\tmailbagWorkshopData.zip  msgs  test1\n"
          ]
        }
      ]
    },
    {
      "cell_type": "markdown",
      "source": [
        "## Lets try a some MSG files\n",
        "Do a \"dry run\" first again"
      ],
      "metadata": {
        "id": "j4u2UU_Bknnp"
      }
    },
    {
      "cell_type": "code",
      "source": [
        "! mailbagit 'msgs' -i msg -d eml html txt -m test2 -r"
      ],
      "metadata": {
        "colab": {
          "base_uri": "https://localhost:8080/"
        },
        "id": "91pZZVs7mN_k",
        "outputId": "dc76d314-3883-4dd8-adf6-e8d8a3fc5b22"
      },
      "execution_count": 8,
      "outputs": [
        {
          "output_type": "stream",
          "name": "stdout",
          "text": [
            "INFO: Reading: msgs\n",
            "INFO: Found 21 messages.\n",
            "WARNING: No body present for 13. Created EML without message body.\n",
            "WARNING: No HTML or plain text body for 13, no HTML derivative created.\n",
            "WARNING: No plain text body for 13, no TXT derivative created.\n",
            "100.0% [Processed 21 of 21 messages] 0.0s remaining\n",
            "INFO: Writing CSV reports...\n",
            "INFO: Finished packaging mailbag.\n"
          ]
        }
      ]
    },
    {
      "cell_type": "markdown",
      "source": [
        "### We got some errors!\n",
        "Dry run still creates an error report\n",
        "Take a look a the warnings report in msgs/test2_warnings)\n",
        "\n",
        "## Mailbagit error reports\n",
        "\n",
        "* external to mailbag\n",
        "* created on -r --dry-run\n",
        "  * more errors will show without dry-run\n",
        "  * errors from subprocesses\n",
        "    * wkhtmltopdf\n",
        "    * chrome\n",
        "* errors.csv\n",
        "* .txt file for each message with error and full stack trace\n",
        "\n",
        "## Lets try it for real\n",
        "This will package all the .MSG files in `msgs` into a mailbag called \"test2\" with EML, HTML, and plain text derivatives"
      ],
      "metadata": {
        "id": "WSNfvg-nmXGC"
      }
    },
    {
      "cell_type": "code",
      "source": [
        "! mailbagit 'msgs' -i msg -d eml html txt -m test2 "
      ],
      "metadata": {
        "colab": {
          "base_uri": "https://localhost:8080/"
        },
        "id": "BKfGJPblmV8M",
        "outputId": "490145ea-1bee-4f45-dce2-04e0c089ca06"
      },
      "execution_count": 9,
      "outputs": [
        {
          "output_type": "stream",
          "name": "stdout",
          "text": [
            "INFO: Reading: msgs\n",
            "INFO: Found 21 messages.\n",
            "WARNING: No body present for 13. Created EML without message body.\n",
            "WARNING: No HTML or plain text body for 13, no HTML derivative created.\n",
            "WARNING: No plain text body for 13, no TXT derivative created.\n",
            "100.0% [Processed 21 of 21 messages] 0.0s remaining\n",
            "INFO: Writing CSV reports...\n",
            "INFO: Saving manifests...\n",
            "INFO: Finished packaging mailbag.\n"
          ]
        }
      ]
    },
    {
      "cell_type": "markdown",
      "source": [
        "### Reset the data"
      ],
      "metadata": {
        "id": "pveMyp5M1pAi"
      }
    },
    {
      "cell_type": "code",
      "source": [
        "\n",
        "\n",
        "! mv msgs/test2/data/msg/* msgs/\n",
        "! ls"
      ],
      "metadata": {
        "id": "lk14Yb330Ud3",
        "colab": {
          "base_uri": "https://localhost:8080/"
        },
        "outputId": "a4285026-9ab3-49e7-a93d-d7690ab43eba"
      },
      "execution_count": 10,
      "outputs": [
        {
          "output_type": "stream",
          "name": "stdout",
          "text": [
            "account.mbox  enron.pst  Inbox\tmailbagWorkshopData.zip  msgs  test1\n"
          ]
        }
      ]
    },
    {
      "cell_type": "markdown",
      "source": [
        "## What's in a mailbag?\n",
        "\n",
        "* bagit.txt, manifiests\n",
        "* bag-info.txt\n",
        "* mailbag.csv\n",
        "* data (payload)\n",
        "\n",
        "\n",
        "## bag-info.txt\n",
        "\n",
        "```\n",
        "Bag-Size: 34 MB\n",
        "Bag-Software-Agent: bagit.py v1.8.1 <https://github.com/LibraryOfCongress/bagit-python>\n",
        "Bag-Type: Mailbag\n",
        "Bagging-Date: 2022-05-26\n",
        "Bagging-Timestamp: 2022-05-26T16:15:48\n",
        "EML-Agent: email\n",
        "EML-Agent-Version: 3.9.12\n",
        "External-Identifier: adeb0ab6-59b8-494c-be6a-de066f5c8f23\n",
        "MSG-Agent: extract_msg\n",
        "MSG-Agent-Version: 0.30.12\n",
        "Mailbag-Agent: mailbagit\n",
        "Mailbag-Agent-Version: 0.2.1\n",
        "Mailbag-Source: msg\n",
        "Original-Included: True\n",
        "PDF-Agent: wkhtmltopdf\n",
        "PDF-Agent-Version: wkhtmltopdf 0.12.6 (with patched qt)\n",
        "Payload-Oxum: 36529495.87\n",
        "WARC-Agent: warcio\n",
        "WARC-Agent-Version: 1.7.4\n",
        "\n",
        "```\n",
        "\n",
        "\n",
        "## mailbag.csv headers\n",
        "\n",
        "```\n",
        "Error\n",
        "Mailbag-Message-ID\n",
        "Message-ID\n",
        "Original-File\n",
        "Message-Path\n",
        "Derivatives-Path\n",
        "Attachments (int)\n",
        "Date\n",
        "From\n",
        "To\n",
        "Cc\n",
        "Bcc\n",
        "Subject\n",
        "Content-Type\n",
        "```\n",
        "\n",
        "\n",
        "## data (payload)\n",
        "\n",
        "* attachments\n",
        "  * [Mailbag-Message-ID]\n",
        "    * attachments.csv\n",
        "    * test.pdf\n",
        "* pst\n",
        "  * export.pst\n",
        "* eml\n",
        "  * \n",
        "* pdf\n",
        "    "
      ],
      "metadata": {
        "id": "aNsg5SlCp54f"
      }
    },
    {
      "cell_type": "markdown",
      "source": [
        "## PDFs won't work in Colab :(\n",
        "\n",
        "You'll have to skip this part."
      ],
      "metadata": {
        "id": "EVj3fIY1tsXd"
      }
    },
    {
      "cell_type": "markdown",
      "source": [
        "## Let's try a PST!"
      ],
      "metadata": {
        "id": "sZhGR7MKvZze"
      }
    },
    {
      "cell_type": "code",
      "source": [
        "! mailbagit 'enron.pst' -i pst -d eml html -m test4"
      ],
      "metadata": {
        "colab": {
          "base_uri": "https://localhost:8080/"
        },
        "id": "eZ1dkp_DvgwV",
        "outputId": "ea04ef23-d6ca-45f9-9682-d4acf61d32eb"
      },
      "execution_count": 15,
      "outputs": [
        {
          "output_type": "stream",
          "name": "stdout",
          "text": [
            "INFO: Reading: enron.pst\n",
            "INFO: Found 71 messages.\n",
            "100.0% [Processed 71 of 71 messages] 0.0s remaining\n",
            "WARNING: Folder \"enron/SPAM Search Folder 2\" did not contain any messages or subfolders.\n",
            "WARNING: Folder \"enron/Top of Personal Folders/Deleted Items\" did not contain any messages or subfolders.\n",
            "WARNING: Folder \"enron/Search Root\" did not contain any messages or subfolders.\n",
            "INFO: Writing CSV reports...\n",
            "INFO: Saving manifests...\n",
            "INFO: Finished packaging mailbag.\n"
          ]
        }
      ]
    },
    {
      "cell_type": "markdown",
      "source": [
        "### Reset the data"
      ],
      "metadata": {
        "id": "qloRk4Bfvp7O"
      }
    },
    {
      "cell_type": "code",
      "source": [
        "! cp 'test4/data/pst/enron.pst' '.'\n",
        "! ls"
      ],
      "metadata": {
        "colab": {
          "base_uri": "https://localhost:8080/"
        },
        "id": "n2tx1AvzvvMH",
        "outputId": "ade74c3c-f322-4592-a2cf-1ab394bfac17"
      },
      "execution_count": 17,
      "outputs": [
        {
          "output_type": "stream",
          "name": "stdout",
          "text": [
            "account.mbox  Inbox\t\t       msgs   test5_warnings\n",
            "enron.pst     mailbagWorkshopData.zip  test5\n"
          ]
        }
      ]
    },
    {
      "cell_type": "markdown",
      "source": [
        "## Let's try to make  some WARCs!\n"
      ],
      "metadata": {
        "id": "p-oZPVn20f6T"
      }
    },
    {
      "cell_type": "code",
      "source": [
        "! mailbagit 'msgs' -i msg -d eml html warc -m test5"
      ],
      "metadata": {
        "colab": {
          "base_uri": "https://localhost:8080/"
        },
        "id": "KuZ_9a9B2B3g",
        "outputId": "242e3af2-aae4-4a19-f143-42b8f294527d"
      },
      "execution_count": 24,
      "outputs": [
        {
          "output_type": "stream",
          "name": "stdout",
          "text": [
            "INFO: Reading: msgs\n",
            "INFO: Found 21 messages.\n",
            "WARNING: No body present for 13. Created EML without message body.\n",
            "WARNING: No HTML or plain text body for 13, no HTML derivative created.\n",
            "WARNING: No HTML or plain text body for 13, no WARC derivative created.\n",
            "100.0% [Processed 21 of 21 messages] 0.0s remaining\n",
            "INFO: Writing CSV reports...\n",
            "INFO: Saving manifests...\n",
            "INFO: Finished packaging mailbag.\n"
          ]
        }
      ]
    },
    {
      "cell_type": "markdown",
      "source": [
        "### Reset the data"
      ],
      "metadata": {
        "id": "xGy4X7kW1sjI"
      }
    },
    {
      "cell_type": "code",
      "source": [
        "! mv msgs/test5/data/msg/* msgs/\n",
        "! ls"
      ],
      "metadata": {
        "id": "LNBioDT11mn7"
      },
      "execution_count": null,
      "outputs": []
    },
    {
      "cell_type": "markdown",
      "source": [
        "## How mailbagit makes WARCs\n",
        "\n",
        "* uses [warcio](https://github.com/webrecorder/warcio) and `requests`\n",
        "* For WARC-Record-ID uses \"mailbag\", Mailbag-Message-ID\n",
        "  * \"http://mailbag/11/body.html\"\n",
        "* body.html\n",
        "* headers.json\n",
        "* duplicated in metadata record not used by replayweb.page\n",
        "* includes attachments\n",
        "\n",
        "## Lossiness in derivatives\n",
        "\n",
        "* Most derivatives only contain part of the data\n",
        "* EML and MBOX derivatives\n",
        "  * tries to write complete object\n",
        "  * uses original encoding\n",
        "  * only possible for EML/MBOX sources\n",
        "  * sometimes fails due to encoding issues\n",
        "    * raises warning and generates from Model\n",
        "\n",
        "## EML / MBOX from Model\n",
        "\n",
        "* [mailbagit Model](https://github.com/UAlbanyArchives/mailbagit/blob/main/mailbagit/models.py)\n",
        "* Contains all headers, HTML and TXT bodies, attachments\n",
        "* Writes folder structure to X-Folder header\n",
        "* multipart/mixed\n",
        "  * multipart/alternative (text/plain if present)\n",
        "  * multipart/alternative (text/html if present)\n",
        "  * application/pdf (application/octet-stream if missing)\n",
        "  \n",
        "\n",
        "## Future Questions\n",
        "\n",
        "* Packaging from IMAP\n",
        "* Packaging over APIs\n",
        "  * Gmail\n",
        "  * Office365/Exchange\n",
        "  * would require OAuth\n",
        "* Exclusions/filtering  "
      ],
      "metadata": {
        "id": "lPWPKjGc00xo"
      }
    }
  ]
}